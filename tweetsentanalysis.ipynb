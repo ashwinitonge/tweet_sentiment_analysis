{
 "cells": [
  {
   "cell_type": "code",
   "execution_count": null,
   "metadata": {},
   "outputs": [],
   "source": [
    "import re\n",
    "import tweepy\n",
    "from tweepy import OAuthHandler\n",
    "from textblob import TextBlob\n",
    "from wordcloud import WordCloud, STOPWORDS, ImageColorGenerator\n",
    "import matplotlib.pyplot as plt\n",
    "import nltk\n",
    "import pandas as pd\n",
    "import seaborn as sns\n",
    "\n",
    "'''\n",
    "Twitter class for sentiment analysis\n",
    "'''\n",
    "class TwitterSentimentAutoReview(object):\n",
    "    \n",
    "    def __init__(self):\n",
    "        # keys and tokens from the Twitter Developer Console\n",
    "        consumer_key = 'LXk7ZSYaN7liU3WneqPX5JyZj'\n",
    "        consumer_secret = 'MuLvZGkKJ35Dr25t9oCeWVjkJOPWy5DnJqdbS1l0KfSBObNNcS'\n",
    "        access_token = '1017440197817044993-vOagUbQSnT0lWE0z797ByMegEhbJPX'\n",
    "        access_token_secret = 'C70qjSCcihP2u68fBz3g2DI4tg72zfCYNBfSwthmfgoV4'\n",
    "        \n",
    "        try:\n",
    "            # Authentication\n",
    "            self.auth = OAuthHandler(consumer_key, consumer_secret)\n",
    "            self.auth.set_access_token(access_token, access_token_secret)\n",
    "            self.api = tweepy.API(self.auth)\n",
    "            \n",
    "        except:\n",
    "            print(\"Err: Authentication Failed\")\n",
    "    \n",
    "    # Remove special characters and links\n",
    "    def clean_tweet(self, tweet):\n",
    "        return ' '.join(re.sub(\"(@[A-Za-z0-9]+)|([^0-9A-Za-z \\t])|(\\w+:\\/\\/\\S+)\", \" \", tweet).split())\n",
    "    \n",
    "    #Clean tweet text by removing links, special characters and query words\n",
    "    def clean_sentiment_tweet(self, tweet, query):\n",
    "        resultlst = re.sub(\"(@[A-Za-z0-9]+)|([^0-9A-Za-z \\t])|(\\w+:\\/\\/\\S+)\", \" \", tweet).split()\n",
    "        query = query.lower()\n",
    "        stopwords = query.split()\n",
    "        stopwords.append(\"rt\")\n",
    "        resultwords = [word for word in resultlst if word.lower() not in stopwords]\n",
    "        result = ' '.join(resultwords)\n",
    "        return result\n",
    "    \n",
    "    # Exctract hashtags from tweets\n",
    "    def hashtag_extract(self, tweet):\n",
    "        return re.findall(r\"#(\\w+)\", tweet)\n",
    "    \n",
    "    # Obtain sentiment of a tweet\n",
    "    def get_tweet_sentiment(self, tweet):\n",
    "        analysis = TextBlob(self.clean_tweet(tweet))\n",
    "        if analysis.sentiment.polarity > 0:\n",
    "            return 'positive'\n",
    "        elif analysis.sentiment.polarity == 0:\n",
    "            return 'neutral'\n",
    "        else:\n",
    "            return 'negative'\n",
    "            "
   ]
  },
  {
   "cell_type": "code",
   "execution_count": null,
   "metadata": {},
   "outputs": [],
   "source": [
    "<img src='image.png'>"
   ]
  }
 ],
 "metadata": {
  "kernelspec": {
   "display_name": "Python 3",
   "language": "python",
   "name": "python3"
  },
  "language_info": {
   "codemirror_mode": {
    "name": "ipython",
    "version": 3
   },
   "file_extension": ".py",
   "mimetype": "text/x-python",
   "name": "python",
   "nbconvert_exporter": "python",
   "pygments_lexer": "ipython3",
   "version": "3.5.4"
  }
 },
 "nbformat": 4,
 "nbformat_minor": 2
}
